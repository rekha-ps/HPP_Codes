{
 "cells": [
  {
   "cell_type": "code",
   "execution_count": null,
   "id": "7e992cd5",
   "metadata": {},
   "outputs": [],
   "source": [
    "pip install xgboost"
   ]
  },
  {
   "cell_type": "code",
   "execution_count": 1,
   "id": "95be659e",
   "metadata": {},
   "outputs": [],
   "source": [
    "import pandas as pd\n",
    "import numpy as np\n",
    "import matplotlib.pyplot as plt\n",
    "import seaborn as sns\n",
    "from sklearn.preprocessing import LabelEncoder, OneHotEncoder\n",
    "from sklearn.model_selection import train_test_split\n",
    "from sklearn.metrics import mean_squared_error, r2_score\n",
    "from sklearn.preprocessing import StandardScaler\n",
    "from sklearn.linear_model import LinearRegression\n",
    "import xgboost as xgb\n",
    "from sklearn.ensemble import RandomForestRegressor\n",
    "from sklearn.ensemble import GradientBoostingRegressor"
   ]
  },
  {
   "cell_type": "code",
   "execution_count": 2,
   "id": "2f730bca",
   "metadata": {},
   "outputs": [
    {
     "data": {
      "text/html": [
       "<div>\n",
       "<style scoped>\n",
       "    .dataframe tbody tr th:only-of-type {\n",
       "        vertical-align: middle;\n",
       "    }\n",
       "\n",
       "    .dataframe tbody tr th {\n",
       "        vertical-align: top;\n",
       "    }\n",
       "\n",
       "    .dataframe thead th {\n",
       "        text-align: right;\n",
       "    }\n",
       "</style>\n",
       "<table border=\"1\" class=\"dataframe\">\n",
       "  <thead>\n",
       "    <tr style=\"text-align: right;\">\n",
       "      <th></th>\n",
       "      <th>Transaction_date</th>\n",
       "      <th>Price_Paid</th>\n",
       "      <th>Address</th>\n",
       "      <th>Town/City</th>\n",
       "      <th>Postcode</th>\n",
       "      <th>Property_Type</th>\n",
       "      <th>Old/New</th>\n",
       "      <th>Freehold/Leasehold</th>\n",
       "      <th>District</th>\n",
       "      <th>County</th>\n",
       "      <th>Building_num</th>\n",
       "      <th>Floor_Area</th>\n",
       "      <th>Habitable_Rooms</th>\n",
       "      <th>Energy_Rating</th>\n",
       "    </tr>\n",
       "  </thead>\n",
       "  <tbody>\n",
       "    <tr>\n",
       "      <th>0</th>\n",
       "      <td>25-08-2020</td>\n",
       "      <td>780000</td>\n",
       "      <td>1 &amp; 4 Haw Cote</td>\n",
       "      <td>Huddersfield</td>\n",
       "      <td>HD7 5XD</td>\n",
       "      <td>D</td>\n",
       "      <td>N</td>\n",
       "      <td>F</td>\n",
       "      <td>Kirklees</td>\n",
       "      <td>West Yorkshire</td>\n",
       "      <td>3367232578</td>\n",
       "      <td>196</td>\n",
       "      <td>7.0</td>\n",
       "      <td>D</td>\n",
       "    </tr>\n",
       "    <tr>\n",
       "      <th>1</th>\n",
       "      <td>27-10-2022</td>\n",
       "      <td>125000</td>\n",
       "      <td>1 16Th Avenue</td>\n",
       "      <td>Hull</td>\n",
       "      <td>HU6 9JJ</td>\n",
       "      <td>S</td>\n",
       "      <td>N</td>\n",
       "      <td>F</td>\n",
       "      <td>City Of Kingston Upon Hull</td>\n",
       "      <td>City Of Kingston Upon Hull</td>\n",
       "      <td>8446903178</td>\n",
       "      <td>73</td>\n",
       "      <td>5.0</td>\n",
       "      <td>D</td>\n",
       "    </tr>\n",
       "    <tr>\n",
       "      <th>2</th>\n",
       "      <td>06-12-2022</td>\n",
       "      <td>115000</td>\n",
       "      <td>1 1St Avenue</td>\n",
       "      <td>Hull</td>\n",
       "      <td>HU6 9NE</td>\n",
       "      <td>S</td>\n",
       "      <td>N</td>\n",
       "      <td>F</td>\n",
       "      <td>City Of Kingston Upon Hull</td>\n",
       "      <td>City Of Kingston Upon Hull</td>\n",
       "      <td>10002965934</td>\n",
       "      <td>75</td>\n",
       "      <td>5.0</td>\n",
       "      <td>D</td>\n",
       "    </tr>\n",
       "    <tr>\n",
       "      <th>3</th>\n",
       "      <td>18-12-2020</td>\n",
       "      <td>70000</td>\n",
       "      <td>1 23Rd Avenue</td>\n",
       "      <td>Hull</td>\n",
       "      <td>HU6 8HP</td>\n",
       "      <td>S</td>\n",
       "      <td>N</td>\n",
       "      <td>F</td>\n",
       "      <td>City Of Kingston Upon Hull</td>\n",
       "      <td>City Of Kingston Upon Hull</td>\n",
       "      <td>9668157678</td>\n",
       "      <td>57</td>\n",
       "      <td>4.0</td>\n",
       "      <td>D</td>\n",
       "    </tr>\n",
       "    <tr>\n",
       "      <th>4</th>\n",
       "      <td>19-04-2022</td>\n",
       "      <td>100000</td>\n",
       "      <td>1 26Th Avenue</td>\n",
       "      <td>Hull</td>\n",
       "      <td>HU6 9SH</td>\n",
       "      <td>S</td>\n",
       "      <td>N</td>\n",
       "      <td>F</td>\n",
       "      <td>City Of Kingston Upon Hull</td>\n",
       "      <td>City Of Kingston Upon Hull</td>\n",
       "      <td>10001727195</td>\n",
       "      <td>74</td>\n",
       "      <td>4.0</td>\n",
       "      <td>D</td>\n",
       "    </tr>\n",
       "  </tbody>\n",
       "</table>\n",
       "</div>"
      ],
      "text/plain": [
       "  Transaction_date  Price_Paid         Address     Town/City Postcode  \\\n",
       "0       25-08-2020      780000  1 & 4 Haw Cote  Huddersfield  HD7 5XD   \n",
       "1       27-10-2022      125000   1 16Th Avenue          Hull  HU6 9JJ   \n",
       "2       06-12-2022      115000    1 1St Avenue          Hull  HU6 9NE   \n",
       "3       18-12-2020       70000   1 23Rd Avenue          Hull  HU6 8HP   \n",
       "4       19-04-2022      100000   1 26Th Avenue          Hull  HU6 9SH   \n",
       "\n",
       "  Property_Type Old/New Freehold/Leasehold                    District  \\\n",
       "0             D       N                  F                    Kirklees   \n",
       "1             S       N                  F  City Of Kingston Upon Hull   \n",
       "2             S       N                  F  City Of Kingston Upon Hull   \n",
       "3             S       N                  F  City Of Kingston Upon Hull   \n",
       "4             S       N                  F  City Of Kingston Upon Hull   \n",
       "\n",
       "                       County  Building_num  Floor_Area  Habitable_Rooms  \\\n",
       "0              West Yorkshire    3367232578         196              7.0   \n",
       "1  City Of Kingston Upon Hull    8446903178          73              5.0   \n",
       "2  City Of Kingston Upon Hull   10002965934          75              5.0   \n",
       "3  City Of Kingston Upon Hull    9668157678          57              4.0   \n",
       "4  City Of Kingston Upon Hull   10001727195          74              4.0   \n",
       "\n",
       "  Energy_Rating  \n",
       "0             D  \n",
       "1             D  \n",
       "2             D  \n",
       "3             D  \n",
       "4             D  "
      ]
     },
     "execution_count": 2,
     "metadata": {},
     "output_type": "execute_result"
    }
   ],
   "source": [
    "hpp_df = pd.read_csv(r'C:\\Users\\Rekha\\Desktop\\Dissertation Datasets\\House_Price.csv')\n",
    "hpp_df.head()"
   ]
  },
  {
   "cell_type": "code",
   "execution_count": 3,
   "id": "1dbbe211",
   "metadata": {},
   "outputs": [
    {
     "name": "stdout",
     "output_type": "stream",
     "text": [
      "<class 'pandas.core.frame.DataFrame'>\n",
      "RangeIndex: 609329 entries, 0 to 609328\n",
      "Data columns (total 14 columns):\n",
      " #   Column              Non-Null Count   Dtype  \n",
      "---  ------              --------------   -----  \n",
      " 0   Transaction_date    609329 non-null  object \n",
      " 1   Price_Paid          609329 non-null  int64  \n",
      " 2   Address             609329 non-null  object \n",
      " 3   Town/City           609329 non-null  object \n",
      " 4   Postcode            609329 non-null  object \n",
      " 5   Property_Type       609329 non-null  object \n",
      " 6   Old/New             609329 non-null  object \n",
      " 7   Freehold/Leasehold  609329 non-null  object \n",
      " 8   District            609329 non-null  object \n",
      " 9   County              609329 non-null  object \n",
      " 10  Building_num        609329 non-null  int64  \n",
      " 11  Floor_Area          609329 non-null  int64  \n",
      " 12  Habitable_Rooms     527186 non-null  float64\n",
      " 13  Energy_Rating       609329 non-null  object \n",
      "dtypes: float64(1), int64(3), object(10)\n",
      "memory usage: 65.1+ MB\n"
     ]
    }
   ],
   "source": [
    "hpp_df.info()"
   ]
  },
  {
   "cell_type": "code",
   "execution_count": 4,
   "id": "b61cf20e",
   "metadata": {},
   "outputs": [
    {
     "data": {
      "text/plain": [
       "(609329, 14)"
      ]
     },
     "execution_count": 4,
     "metadata": {},
     "output_type": "execute_result"
    }
   ],
   "source": [
    "hpp_df.shape"
   ]
  },
  {
   "cell_type": "code",
   "execution_count": 5,
   "id": "4742579b",
   "metadata": {},
   "outputs": [
    {
     "data": {
      "text/plain": [
       "Transaction_date          0\n",
       "Price_Paid                0\n",
       "Address                   0\n",
       "Town/City                 0\n",
       "Postcode                  0\n",
       "Property_Type             0\n",
       "Old/New                   0\n",
       "Freehold/Leasehold        0\n",
       "District                  0\n",
       "County                    0\n",
       "Building_num              0\n",
       "Floor_Area                0\n",
       "Habitable_Rooms       82143\n",
       "Energy_Rating             0\n",
       "dtype: int64"
      ]
     },
     "execution_count": 5,
     "metadata": {},
     "output_type": "execute_result"
    }
   ],
   "source": [
    "hpp_df.isnull().sum()"
   ]
  },
  {
   "cell_type": "code",
   "execution_count": 6,
   "id": "09bca2cd",
   "metadata": {},
   "outputs": [],
   "source": [
    "#drop the null values from Habitable rooms\n",
    "hpp_df.dropna(subset=['Habitable_Rooms'], inplace=True)"
   ]
  },
  {
   "cell_type": "code",
   "execution_count": 7,
   "id": "07068b17",
   "metadata": {},
   "outputs": [],
   "source": [
    "# Convert 'Transaction_date' to datetime for time-based analysis\n",
    "hpp_df['Transaction_date'] = pd.to_datetime(hpp_df['Transaction_date'])\n",
    "\n",
    "# Convert 'Habitable_Rooms' to integer for meaningful analysis\n",
    "hpp_df['Habitable_Rooms'] = hpp_df['Habitable_Rooms'].round().astype('Int64')\n",
    "\n",
    "# Extract year and month from 'Transaction_date'\n",
    "hpp_df['Year'] = hpp_df['Transaction_date'].dt.year\n",
    "hpp_df['Month'] = hpp_df['Transaction_date'].dt.month\n",
    "\n",
    "# Drop rows with missing 'Habitable_Rooms' values\n",
    "hpp_df.dropna(subset=['Habitable_Rooms'], inplace=True)\n",
    "\n",
    "# Replace empty strings with NaN for consistent data handling\n",
    "hpp_df.replace('', np.nan, inplace=True)"
   ]
  },
  {
   "cell_type": "code",
   "execution_count": 8,
   "id": "aa4c7d49",
   "metadata": {
    "scrolled": true
   },
   "outputs": [
    {
     "name": "stdout",
     "output_type": "stream",
     "text": [
      "<class 'pandas.core.frame.DataFrame'>\n",
      "Int64Index: 527186 entries, 0 to 609328\n",
      "Data columns (total 16 columns):\n",
      " #   Column              Non-Null Count   Dtype         \n",
      "---  ------              --------------   -----         \n",
      " 0   Transaction_date    527186 non-null  datetime64[ns]\n",
      " 1   Price_Paid          527186 non-null  int64         \n",
      " 2   Address             527186 non-null  object        \n",
      " 3   Town/City           527186 non-null  object        \n",
      " 4   Postcode            527186 non-null  object        \n",
      " 5   Property_Type       527186 non-null  object        \n",
      " 6   Old/New             527186 non-null  object        \n",
      " 7   Freehold/Leasehold  527186 non-null  object        \n",
      " 8   District            527186 non-null  object        \n",
      " 9   County              527186 non-null  object        \n",
      " 10  Building_num        527186 non-null  int64         \n",
      " 11  Floor_Area          527186 non-null  int64         \n",
      " 12  Habitable_Rooms     527186 non-null  Int64         \n",
      " 13  Energy_Rating       527186 non-null  object        \n",
      " 14  Year                527186 non-null  int64         \n",
      " 15  Month               527186 non-null  int64         \n",
      "dtypes: Int64(1), datetime64[ns](1), int64(5), object(9)\n",
      "memory usage: 68.9+ MB\n"
     ]
    }
   ],
   "source": [
    "hpp_df.info()"
   ]
  },
  {
   "cell_type": "code",
   "execution_count": 9,
   "id": "8ec71c5b",
   "metadata": {},
   "outputs": [
    {
     "data": {
      "text/plain": [
       "array(['West Yorkshire', 'City Of Kingston Upon Hull', 'South Yorkshire',\n",
       "       'North Lincolnshire', 'North East Lincolnshire', 'York',\n",
       "       'East Riding Of Yorkshire', 'North Yorkshire', 'Lincolnshire'],\n",
       "      dtype=object)"
      ]
     },
     "execution_count": 9,
     "metadata": {},
     "output_type": "execute_result"
    }
   ],
   "source": [
    "hpp_df['County'].unique()"
   ]
  },
  {
   "cell_type": "code",
   "execution_count": 10,
   "id": "f5367c2b",
   "metadata": {
    "scrolled": true
   },
   "outputs": [
    {
     "data": {
      "text/plain": [
       "array(['D', 'S', 'T', 'F', 'B', 'M'], dtype=object)"
      ]
     },
     "execution_count": 10,
     "metadata": {},
     "output_type": "execute_result"
    }
   ],
   "source": [
    "hpp_df['Property_Type'].unique()"
   ]
  },
  {
   "cell_type": "code",
   "execution_count": 11,
   "id": "99a1ddbb",
   "metadata": {},
   "outputs": [],
   "source": [
    "# Drop rows where 'Property_Type' is 'O'\n",
    "hpp_df = hpp_df.loc[hpp_df['Property_Type'] != 'O']"
   ]
  },
  {
   "cell_type": "code",
   "execution_count": 12,
   "id": "c26c4997",
   "metadata": {
    "scrolled": true
   },
   "outputs": [
    {
     "name": "stdout",
     "output_type": "stream",
     "text": [
      "<class 'pandas.core.frame.DataFrame'>\n",
      "Int64Index: 527186 entries, 0 to 609328\n",
      "Data columns (total 16 columns):\n",
      " #   Column              Non-Null Count   Dtype         \n",
      "---  ------              --------------   -----         \n",
      " 0   Transaction_date    527186 non-null  datetime64[ns]\n",
      " 1   Price_Paid          527186 non-null  int64         \n",
      " 2   Address             527186 non-null  object        \n",
      " 3   Town/City           527186 non-null  object        \n",
      " 4   Postcode            527186 non-null  object        \n",
      " 5   Property_Type       527186 non-null  object        \n",
      " 6   Old/New             527186 non-null  object        \n",
      " 7   Freehold/Leasehold  527186 non-null  object        \n",
      " 8   District            527186 non-null  object        \n",
      " 9   County              527186 non-null  object        \n",
      " 10  Building_num        527186 non-null  int64         \n",
      " 11  Floor_Area          527186 non-null  int64         \n",
      " 12  Habitable_Rooms     527186 non-null  Int64         \n",
      " 13  Energy_Rating       527186 non-null  object        \n",
      " 14  Year                527186 non-null  int64         \n",
      " 15  Month               527186 non-null  int64         \n",
      "dtypes: Int64(1), datetime64[ns](1), int64(5), object(9)\n",
      "memory usage: 68.9+ MB\n"
     ]
    }
   ],
   "source": [
    "hpp_df.info()"
   ]
  },
  {
   "cell_type": "code",
   "execution_count": 13,
   "id": "63a354c9",
   "metadata": {},
   "outputs": [
    {
     "data": {
      "text/plain": [
       "(527186, 16)"
      ]
     },
     "execution_count": 13,
     "metadata": {},
     "output_type": "execute_result"
    }
   ],
   "source": [
    "hpp_df.shape"
   ]
  },
  {
   "cell_type": "code",
   "execution_count": 14,
   "id": "cbae02c7",
   "metadata": {},
   "outputs": [
    {
     "data": {
      "text/plain": [
       "array(['West Yorkshire', 'City Of Kingston Upon Hull', 'South Yorkshire',\n",
       "       'North Lincolnshire', 'North East Lincolnshire', 'York',\n",
       "       'East Riding Of Yorkshire', 'North Yorkshire', 'Lincolnshire'],\n",
       "      dtype=object)"
      ]
     },
     "execution_count": 14,
     "metadata": {},
     "output_type": "execute_result"
    }
   ],
   "source": [
    "hpp_df['County'].unique()"
   ]
  },
  {
   "cell_type": "code",
   "execution_count": 15,
   "id": "e99dddf4",
   "metadata": {},
   "outputs": [
    {
     "data": {
      "text/plain": [
       "Year\n",
       "2013    137833.22\n",
       "2014    144823.14\n",
       "2015    150721.26\n",
       "2016    158004.11\n",
       "2017    163833.56\n",
       "2018    167674.55\n",
       "2019    170877.30\n",
       "2020    183181.52\n",
       "2021    198566.84\n",
       "2022    212841.65\n",
       "2023    201955.67\n",
       "Name: Price_Paid, dtype: float64"
      ]
     },
     "execution_count": 15,
     "metadata": {},
     "output_type": "execute_result"
    }
   ],
   "source": [
    "#Average property price per year\n",
    "hpp_df.groupby('Year')['Price_Paid'].mean().round(2)"
   ]
  },
  {
   "cell_type": "code",
   "execution_count": 16,
   "id": "4edb31d5",
   "metadata": {},
   "outputs": [
    {
     "data": {
      "text/plain": [
       "Year\n",
       "2013    3000\n",
       "2014    5300\n",
       "2015     250\n",
       "2016     105\n",
       "2017     480\n",
       "2018     400\n",
       "2019     125\n",
       "2020     175\n",
       "2021     155\n",
       "2022    3000\n",
       "2023    4400\n",
       "Name: Price_Paid, dtype: int64"
      ]
     },
     "execution_count": 16,
     "metadata": {},
     "output_type": "execute_result"
    }
   ],
   "source": [
    "#find minimun price per year\n",
    "hpp_df.groupby('Year')['Price_Paid'].min()"
   ]
  },
  {
   "cell_type": "code",
   "execution_count": 17,
   "id": "cd599042",
   "metadata": {},
   "outputs": [
    {
     "data": {
      "text/plain": [
       "Year\n",
       "2013     1999999\n",
       "2014     3902021\n",
       "2015     2850000\n",
       "2016    17164424\n",
       "2017    11450000\n",
       "2018     1797000\n",
       "2019     2450000\n",
       "2020     8826063\n",
       "2021     9345000\n",
       "2022    60945000\n",
       "2023     3000000\n",
       "Name: Price_Paid, dtype: int64"
      ]
     },
     "execution_count": 17,
     "metadata": {},
     "output_type": "execute_result"
    }
   ],
   "source": [
    "#find maximum price per year\n",
    "hpp_df.groupby('Year')['Price_Paid'].max()"
   ]
  },
  {
   "cell_type": "code",
   "execution_count": 18,
   "id": "f1e954cf",
   "metadata": {},
   "outputs": [
    {
     "name": "stdout",
     "output_type": "stream",
     "text": [
      "         Price_Paid     Floor_Area  Habitable_Rooms\n",
      "count  5.271860e+05  527186.000000    527186.000000\n",
      "mean   1.726033e+05      91.500876         4.721956\n",
      "std    2.410441e+05      44.820158         1.466693\n",
      "min    1.050000e+02       4.000000         1.000000\n",
      "25%    9.999500e+04      69.000000         4.000000\n",
      "50%    1.420000e+05      83.000000         5.000000\n",
      "75%    2.080000e+05     102.000000         5.000000\n",
      "max    6.094500e+07    5507.000000        91.000000\n",
      "\n",
      "Counts and Percentages for Property_Type:\n",
      "   Counts  Percentages\n",
      "S  200676    38.065502\n",
      "T  197115    37.390029\n",
      "D  102665    19.474151\n",
      "F   26110     4.952711\n",
      "B     498     0.094464\n",
      "M     122     0.023142\n",
      "\n",
      "Counts and Percentages for Energy_Rating:\n",
      "   Counts  Percentages\n",
      "D  282169    53.523614\n",
      "C  126505    23.996275\n",
      "E   92426    17.531953\n",
      "F   15405     2.922119\n",
      "B    5353     1.015391\n",
      "G    5106     0.968539\n",
      "A     222     0.042110\n",
      "\n",
      "Counts and Percentages for Old/New:\n",
      "   Counts  Percentages\n",
      "N  525637    99.706176\n",
      "Y    1549     0.293824\n",
      "\n",
      "Counts and Percentages for Freehold/Leasehold:\n",
      "   Counts  Percentages\n",
      "F  462065    87.647434\n",
      "L   65121    12.352566\n"
     ]
    }
   ],
   "source": [
    "# Calculate basic statistics for numeric attributes\n",
    "# Provides insights into the central tendency and spread of numeric features\n",
    "\n",
    "numeric_attributes = ['Price_Paid', 'Floor_Area', 'Habitable_Rooms']\n",
    "numeric_stats = hpp_df[numeric_attributes].describe()\n",
    "\n",
    "# Calculate unique value counts and percentages for categorical attributes\n",
    "# Offers a snapshot of the distribution of categorical variables\n",
    "categorical_attributes = ['Property_Type', 'Energy_Rating', 'Old/New', 'Freehold/Leasehold']\n",
    "categorical_counts = {}\n",
    "for column in categorical_attributes:\n",
    "    counts = hpp_df[column].value_counts()\n",
    "    percentages = (counts / counts.sum()) * 100\n",
    "    categorical_counts[column] = pd.DataFrame({'Counts': counts, 'Percentages': percentages})\n",
    "\n",
    "print(numeric_stats)\n",
    "for column, counts_df in categorical_counts.items():\n",
    "    print(f\"\\nCounts and Percentages for {column}:\")\n",
    "    print(counts_df)"
   ]
  },
  {
   "cell_type": "code",
   "execution_count": 19,
   "id": "e1c8f8cd",
   "metadata": {
    "scrolled": false
   },
   "outputs": [
    {
     "name": "stdout",
     "output_type": "stream",
     "text": [
      "Property_Type           B          D          F            M         S  \\\n",
      "Year                                                                     \n",
      "2013                  NaN        NaN        NaN          NaN       NaN   \n",
      "2014            98.795181   6.577853   8.059420          NaN  3.099691   \n",
      "2015             4.002727   3.980451  -1.959057   -35.703041  3.709728   \n",
      "2016           221.383169   4.187452   7.380151    22.398552  4.099474   \n",
      "2017           -74.895377   4.424957  21.115493   -35.121900  3.607599   \n",
      "2018             2.032269   3.671127 -10.371014    70.823885  3.541578   \n",
      "2019            -6.531447   1.416886   3.996623   -49.963174  2.608818   \n",
      "2020            39.322878   6.680568  19.805366    55.294115  5.853784   \n",
      "2021           -20.018336  10.254637 -12.165994   -11.888708  8.294845   \n",
      "2022            17.455833   7.124736  81.632978  2143.524281  7.892127   \n",
      "2023            -4.568115   2.933018 -42.333538   -95.353330 -0.859133   \n",
      "\n",
      "Property_Type          T  \n",
      "Year                      \n",
      "2013                 NaN  \n",
      "2014            4.364505  \n",
      "2015            3.697295  \n",
      "2016            2.994465  \n",
      "2017            2.230511  \n",
      "2018            2.728550  \n",
      "2019            2.281172  \n",
      "2020            4.567193  \n",
      "2021           10.099181  \n",
      "2022            5.474469  \n",
      "2023           -2.453344  \n"
     ]
    },
    {
     "data": {
      "image/png": "[encoded data removed]",
      "text/plain": [
       "<Figure size 720x432 with 1 Axes>"
      ]
     },
     "metadata": {
      "needs_background": "light"
     },
     "output_type": "display_data"
    }
   ],
   "source": [
    "# Calculate Percentage Change (Yearly) by Type of Property\n",
    "hpp_df['Year'] = pd.to_datetime(hpp_df['Transaction_date']).dt.year\n",
    "property_type_changes = hpp_df.groupby(['Year', 'Property_Type'])['Price_Paid'].mean().unstack()\n",
    "property_type_changes = property_type_changes.pct_change() * 100\n",
    "\n",
    "# Print the results\n",
    "print(property_type_changes)\n",
    "\n",
    "# Plotting\n",
    "plt.figure(figsize=(10, 6))\n",
    "\n",
    "for prop_type in property_type_changes.columns:\n",
    "    plt.plot(property_type_changes.index, property_type_changes[prop_type], marker='o', label=f'Property_Type {prop_type}')\n",
    "\n",
    "plt.title('Percentage Change (Yearly) by Type of Property')\n",
    "plt.xlabel('Year')\n",
    "plt.ylabel('Percentage Change')\n",
    "plt.legend()\n",
    "plt.grid(True)\n",
    "plt.show()\n"
   ]
  },
  {
   "cell_type": "code",
   "execution_count": 20,
   "id": "cc17a05f",
   "metadata": {},
   "outputs": [
    {
     "data": {
      "image/png": "[encoded data removed]",
      "text/plain": [
       "<Figure size 720x432 with 1 Axes>"
      ]
     },
     "metadata": {
      "needs_background": "light"
     },
     "output_type": "display_data"
    }
   ],
   "source": [
    "# Visualize the distribution of house prices over years based on counties to gains an understanding of the overall trend in house prices\n",
    "\n",
    "\n",
    "plt.figure(figsize=(10, 6))\n",
    "sns.lineplot(data=hpp_df, x='Year', y='Price_Paid', hue='County', marker='o', ci=None)\n",
    "plt.title('Price Variations Among Counties Over Years')\n",
    "plt.xlabel('Year')\n",
    "plt.ylabel('Price Paid (£)')\n",
    "plt.legend(title='County', loc='best')\n",
    "plt.xticks(rotation=45)\n",
    "plt.tight_layout()\n",
    "plt.show()"
   ]
  },
  {
   "cell_type": "code",
   "execution_count": 21,
   "id": "d55c64f2",
   "metadata": {},
   "outputs": [
    {
     "name": "stdout",
     "output_type": "stream",
     "text": [
      "Plot Data Table:\n",
      "                       County  \\\n",
      "0              West Yorkshire   \n",
      "1  City Of Kingston Upon Hull   \n",
      "2             South Yorkshire   \n",
      "3          North Lincolnshire   \n",
      "4     North East Lincolnshire   \n",
      "5                        York   \n",
      "6    East Riding Of Yorkshire   \n",
      "7             North Yorkshire   \n",
      "8                Lincolnshire   \n",
      "\n",
      "                                                Year  \\\n",
      "0                     [0.75, 1.25, 1.25, 0.75, 0.75]   \n",
      "1                                         [1.0, 1.0]   \n",
      "2                                         [1.0, 1.0]   \n",
      "3                                     [0.875, 1.125]   \n",
      "4                                     [0.875, 1.125]   \n",
      "5                                       [0.75, 1.25]   \n",
      "6  [1.0, 1.0, 1.0, 1.0, 1.0, 1.0, 1.0, 1.0, 1.0, ...   \n",
      "7                     [1.75, 2.25, 2.25, 1.75, 1.75]   \n",
      "8                                         [2.0, 2.0]   \n",
      "\n",
      "                                          Price_Paid  \n",
      "0    [83000.0, 83000.0, 349462.5, 349462.5, 83000.0]  \n",
      "1                                   [83000.0, 105.0]  \n",
      "2                               [349462.5, 710000.0]  \n",
      "3                                     [105.0, 105.0]  \n",
      "4                               [710000.0, 710000.0]  \n",
      "5                               [200000.0, 200000.0]  \n",
      "6  [1000000, 775000, 6016770, 850000, 835000, 143...  \n",
      "7  [186500.0, 186500.0, 340000.0, 340000.0, 18650...  \n",
      "8                                 [186500.0, 1500.0]  \n"
     ]
    },
    {
     "data": {
      "text/plain": [
       "<Figure size 720x432 with 0 Axes>"
      ]
     },
     "metadata": {},
     "output_type": "display_data"
    },
    {
     "data": {
      "image/png": "[encoded data removed]",
      "text/plain": [
       "<Figure size 720x360 with 1 Axes>"
      ]
     },
     "metadata": {
      "needs_background": "light"
     },
     "output_type": "display_data"
    }
   ],
   "source": [
    "#Transaction Distribution by Property Type\n",
    "plt.figure(figsize=(10, 6))\n",
    "ax = hpp_df.boxplot(column='Price_Paid', by='Property_Type', figsize=(10, 5))\n",
    "plt.title('Transaction Distribution based on Property Type')\n",
    "plt.xlabel('Property Type')\n",
    "plt.ylabel('Price Paid (£)')\n",
    "plt.xticks(rotation=45)\n",
    "plt.tight_layout()\n",
    "\n",
    "\n",
    "# Extract data from the plot\n",
    "plot_data = []\n",
    "for line, county in zip(ax.lines, hpp_df['County'].unique()):\n",
    "    xdata, ydata = line.get_data()\n",
    "    plot_data.append({'County': county, 'Year': xdata, 'Price_Paid': ydata})\n",
    "\n",
    "# Create a DataFrame from the plot data\n",
    "plot_df = pd.DataFrame(plot_data)\n",
    "\n",
    "# Display the plot DataFrame\n",
    "print(\"Plot Data Table:\")\n",
    "print(plot_df)\n",
    "\n",
    "plt.show()"
   ]
  },
  {
   "cell_type": "code",
   "execution_count": 22,
   "id": "053aa614",
   "metadata": {
    "scrolled": false
   },
   "outputs": [
    {
     "data": {
      "text/html": [
       "<div>\n",
       "<style scoped>\n",
       "    .dataframe tbody tr th:only-of-type {\n",
       "        vertical-align: middle;\n",
       "    }\n",
       "\n",
       "    .dataframe tbody tr th {\n",
       "        vertical-align: top;\n",
       "    }\n",
       "\n",
       "    .dataframe thead th {\n",
       "        text-align: right;\n",
       "    }\n",
       "</style>\n",
       "<table border=\"1\" class=\"dataframe\">\n",
       "  <thead>\n",
       "    <tr style=\"text-align: right;\">\n",
       "      <th>County</th>\n",
       "      <th>City Of Kingston Upon Hull</th>\n",
       "      <th>East Riding Of Yorkshire</th>\n",
       "      <th>Lincolnshire</th>\n",
       "      <th>North East Lincolnshire</th>\n",
       "      <th>North Lincolnshire</th>\n",
       "      <th>North Yorkshire</th>\n",
       "      <th>South Yorkshire</th>\n",
       "      <th>West Yorkshire</th>\n",
       "      <th>York</th>\n",
       "    </tr>\n",
       "    <tr>\n",
       "      <th>Year</th>\n",
       "      <th></th>\n",
       "      <th></th>\n",
       "      <th></th>\n",
       "      <th></th>\n",
       "      <th></th>\n",
       "      <th></th>\n",
       "      <th></th>\n",
       "      <th></th>\n",
       "      <th></th>\n",
       "    </tr>\n",
       "  </thead>\n",
       "  <tbody>\n",
       "    <tr>\n",
       "      <th>2013</th>\n",
       "      <td>82950.0</td>\n",
       "      <td>134000.0</td>\n",
       "      <td>NaN</td>\n",
       "      <td>98000.0</td>\n",
       "      <td>106750.0</td>\n",
       "      <td>170000.0</td>\n",
       "      <td>110000.0</td>\n",
       "      <td>120000.0</td>\n",
       "      <td>180000.0</td>\n",
       "    </tr>\n",
       "    <tr>\n",
       "      <th>2014</th>\n",
       "      <td>87950.0</td>\n",
       "      <td>142000.0</td>\n",
       "      <td>56000.0</td>\n",
       "      <td>107500.0</td>\n",
       "      <td>114300.0</td>\n",
       "      <td>172000.0</td>\n",
       "      <td>117000.0</td>\n",
       "      <td>124950.0</td>\n",
       "      <td>192000.0</td>\n",
       "    </tr>\n",
       "    <tr>\n",
       "      <th>2015</th>\n",
       "      <td>90000.0</td>\n",
       "      <td>148625.0</td>\n",
       "      <td>NaN</td>\n",
       "      <td>110000.0</td>\n",
       "      <td>120000.0</td>\n",
       "      <td>178975.0</td>\n",
       "      <td>120000.0</td>\n",
       "      <td>129000.0</td>\n",
       "      <td>215000.0</td>\n",
       "    </tr>\n",
       "    <tr>\n",
       "      <th>2016</th>\n",
       "      <td>94000.0</td>\n",
       "      <td>152500.0</td>\n",
       "      <td>277475.0</td>\n",
       "      <td>112000.0</td>\n",
       "      <td>122000.0</td>\n",
       "      <td>190000.0</td>\n",
       "      <td>123500.0</td>\n",
       "      <td>135000.0</td>\n",
       "      <td>220000.0</td>\n",
       "    </tr>\n",
       "    <tr>\n",
       "      <th>2017</th>\n",
       "      <td>98000.0</td>\n",
       "      <td>160000.0</td>\n",
       "      <td>325000.0</td>\n",
       "      <td>118000.0</td>\n",
       "      <td>127000.0</td>\n",
       "      <td>210000.0</td>\n",
       "      <td>126000.0</td>\n",
       "      <td>137500.0</td>\n",
       "      <td>231000.0</td>\n",
       "    </tr>\n",
       "    <tr>\n",
       "      <th>2018</th>\n",
       "      <td>102000.0</td>\n",
       "      <td>163000.0</td>\n",
       "      <td>394950.0</td>\n",
       "      <td>115000.0</td>\n",
       "      <td>130000.0</td>\n",
       "      <td>200000.0</td>\n",
       "      <td>130000.0</td>\n",
       "      <td>142000.0</td>\n",
       "      <td>238000.0</td>\n",
       "    </tr>\n",
       "    <tr>\n",
       "      <th>2019</th>\n",
       "      <td>102500.0</td>\n",
       "      <td>170000.0</td>\n",
       "      <td>241500.0</td>\n",
       "      <td>120000.0</td>\n",
       "      <td>133000.0</td>\n",
       "      <td>196250.0</td>\n",
       "      <td>133000.0</td>\n",
       "      <td>146000.0</td>\n",
       "      <td>245000.0</td>\n",
       "    </tr>\n",
       "    <tr>\n",
       "      <th>2020</th>\n",
       "      <td>107000.0</td>\n",
       "      <td>179950.0</td>\n",
       "      <td>260000.0</td>\n",
       "      <td>123000.0</td>\n",
       "      <td>138250.0</td>\n",
       "      <td>202970.0</td>\n",
       "      <td>140000.0</td>\n",
       "      <td>155000.0</td>\n",
       "      <td>250000.0</td>\n",
       "    </tr>\n",
       "    <tr>\n",
       "      <th>2021</th>\n",
       "      <td>114000.0</td>\n",
       "      <td>190000.0</td>\n",
       "      <td>319000.0</td>\n",
       "      <td>130000.0</td>\n",
       "      <td>150000.0</td>\n",
       "      <td>229000.0</td>\n",
       "      <td>150000.0</td>\n",
       "      <td>168000.0</td>\n",
       "      <td>275000.0</td>\n",
       "    </tr>\n",
       "    <tr>\n",
       "      <th>2022</th>\n",
       "      <td>122500.0</td>\n",
       "      <td>200000.0</td>\n",
       "      <td>365000.0</td>\n",
       "      <td>135000.0</td>\n",
       "      <td>160000.0</td>\n",
       "      <td>217500.0</td>\n",
       "      <td>160000.0</td>\n",
       "      <td>175000.0</td>\n",
       "      <td>297950.0</td>\n",
       "    </tr>\n",
       "    <tr>\n",
       "      <th>2023</th>\n",
       "      <td>120000.0</td>\n",
       "      <td>195000.0</td>\n",
       "      <td>NaN</td>\n",
       "      <td>119355.5</td>\n",
       "      <td>164000.0</td>\n",
       "      <td>225000.0</td>\n",
       "      <td>155000.0</td>\n",
       "      <td>172000.0</td>\n",
       "      <td>290000.0</td>\n",
       "    </tr>\n",
       "  </tbody>\n",
       "</table>\n",
       "</div>"
      ],
      "text/plain": [
       "County  City Of Kingston Upon Hull  East Riding Of Yorkshire  Lincolnshire  \\\n",
       "Year                                                                         \n",
       "2013                       82950.0                  134000.0           NaN   \n",
       "2014                       87950.0                  142000.0       56000.0   \n",
       "2015                       90000.0                  148625.0           NaN   \n",
       "2016                       94000.0                  152500.0      277475.0   \n",
       "2017                       98000.0                  160000.0      325000.0   \n",
       "2018                      102000.0                  163000.0      394950.0   \n",
       "2019                      102500.0                  170000.0      241500.0   \n",
       "2020                      107000.0                  179950.0      260000.0   \n",
       "2021                      114000.0                  190000.0      319000.0   \n",
       "2022                      122500.0                  200000.0      365000.0   \n",
       "2023                      120000.0                  195000.0           NaN   \n",
       "\n",
       "County  North East Lincolnshire  North Lincolnshire  North Yorkshire  \\\n",
       "Year                                                                   \n",
       "2013                    98000.0            106750.0         170000.0   \n",
       "2014                   107500.0            114300.0         172000.0   \n",
       "2015                   110000.0            120000.0         178975.0   \n",
       "2016                   112000.0            122000.0         190000.0   \n",
       "2017                   118000.0            127000.0         210000.0   \n",
       "2018                   115000.0            130000.0         200000.0   \n",
       "2019                   120000.0            133000.0         196250.0   \n",
       "2020                   123000.0            138250.0         202970.0   \n",
       "2021                   130000.0            150000.0         229000.0   \n",
       "2022                   135000.0            160000.0         217500.0   \n",
       "2023                   119355.5            164000.0         225000.0   \n",
       "\n",
       "County  South Yorkshire  West Yorkshire      York  \n",
       "Year                                               \n",
       "2013           110000.0        120000.0  180000.0  \n",
       "2014           117000.0        124950.0  192000.0  \n",
       "2015           120000.0        129000.0  215000.0  \n",
       "2016           123500.0        135000.0  220000.0  \n",
       "2017           126000.0        137500.0  231000.0  \n",
       "2018           130000.0        142000.0  238000.0  \n",
       "2019           133000.0        146000.0  245000.0  \n",
       "2020           140000.0        155000.0  250000.0  \n",
       "2021           150000.0        168000.0  275000.0  \n",
       "2022           160000.0        175000.0  297950.0  \n",
       "2023           155000.0        172000.0  290000.0  "
      ]
     },
     "execution_count": 22,
     "metadata": {},
     "output_type": "execute_result"
    }
   ],
   "source": [
    "#Median Price for Counties Over Time\n",
    "\n",
    "median_prices = hpp_df.groupby(['Year', 'County'])['Price_Paid'].median().reset_index()\n",
    "pivot_table = median_prices.pivot(index='Year', columns='County', values='Price_Paid')\n",
    "pivot_table"
   ]
  },
  {
   "cell_type": "code",
   "execution_count": 30,
   "id": "63854731",
   "metadata": {},
   "outputs": [
    {
     "data": {
      "image/png": "[encoded data removed]",
      "text/plain": [
       "<Figure size 720x432 with 1 Axes>"
      ]
     },
     "metadata": {
      "needs_background": "light"
     },
     "output_type": "display_data"
    }
   ],
   "source": [
    "# Create the bar chart\n",
    "ax = top_10_towns.sort_values(ascending=True).plot(kind='barh', grid=True, figsize=(10, 6))\n",
    "\n",
    "# Customize the X-axis ticks and labels\n",
    "tick_values = np.linspace(0, top_10_towns.max(), 6)  # Adjust the number of ticks as needed\n",
    "tick_labels = ['£{:,.0f}'.format(x) for x in tick_values]\n",
    "\n",
    "ax.set_xticks(tick_values)\n",
    "ax.set_xticklabels(tick_labels)\n",
    "\n",
    "plt.title('Top 10 Most Valued Towns/Cities')\n",
    "plt.xlabel('Price Paid (£)')\n",
    "plt.ylabel('Town/City')\n",
    "plt.tight_layout()\n",
    "plt.show()"
   ]
  },
  {
   "cell_type": "code",
   "execution_count": 25,
   "id": "33c0213a",
   "metadata": {},
   "outputs": [
    {
     "data": {
      "image/png": "[encoded data removed]",
      "text/plain": [
       "<Figure size 720x432 with 1 Axes>"
      ]
     },
     "metadata": {
      "needs_background": "light"
     },
     "output_type": "display_data"
    }
   ],
   "source": [
    "#Top Valued Towns/Cities\n",
    "\n",
    "town_city_pp = hpp_df.groupby('Town/City')['Price_Paid'].sum()\n",
    "top_10_towns = town_city_pp.sort_values(ascending=False).head(10)\n",
    "top_10_towns.sort_values(ascending=True).plot(kind='barh', grid=True, figsize=(10, 6))\n",
    "plt.title('Top 10 Most Valued Towns/Cities')\n",
    "plt.xlabel('Price Paid (£)')\n",
    "plt.ylabel('Town/City')\n",
    "plt.tight_layout()\n",
    "plt.show()"
   ]
  },
  {
   "cell_type": "code",
   "execution_count": null,
   "id": "be1cf881",
   "metadata": {},
   "outputs": [],
   "source": [
    "plt.figure(figsize=(10, 6))\n",
    "\n",
    "# Calculate the difference between the current year and the transaction year\n",
    "hpp_df['Years_Since'] = 2023 - hpp_df['Year']\n",
    "\n",
    "# Filter data for transactions in the last 10 years\n",
    "last_10_years = hpp_df[hpp_df['Years_Since'] <= 10]\n",
    "\n",
    "# Group data by 'Years_Since' and calculate mean price and transaction count for each year\n",
    "yearly_stats = last_10_years.groupby('Years_Since').agg({'Price_Paid': 'mean', 'Transaction_date': 'count'})\n",
    "\n",
    "# Reset index for plotting\n",
    "yearly_stats = yearly_stats.reset_index()\n",
    "\n",
    "# Invert the x-axis values\n",
    "yearly_stats['Years_Since'] = 10 - yearly_stats['Years_Since']\n",
    "\n",
    "# Line plot for mean price\n",
    "plt.subplot(2, 1, 1)\n",
    "plt.plot(yearly_stats['Years_Since'], yearly_stats['Price_Paid'], marker='o')\n",
    "plt.title('Average Price Variation Over the Last 10 Years')\n",
    "plt.xlabel('Years Since')\n",
    "plt.ylabel('Average Price (£)')\n",
    "\n",
    "# Line plot for transaction count\n",
    "plt.subplot(2, 1, 2)\n",
    "plt.plot(yearly_stats['Years_Since'], yearly_stats['Transaction_date'], marker='o', color='green')\n",
    "plt.title('Transaction Count Variation Over the Last 10 Years')\n",
    "plt.xlabel('Years Since')\n",
    "plt.ylabel('Transaction Count')\n",
    "plt.tight_layout()\n",
    "plt.show()"
   ]
  },
  {
   "cell_type": "code",
   "execution_count": null,
   "id": "44a1d5dd",
   "metadata": {},
   "outputs": [],
   "source": [
    "# Filter the data for the years 2013 and 2023\n",
    "hpp_df_2013 = hpp_df[hpp_df['Year'] == 2013].copy()\n",
    "hpp_df_2023 = hpp_df[hpp_df['Year'] == 2023].copy()\n",
    "\n",
    "# Create a figure and axis for the plot\n",
    "fig, ax = plt.subplots(figsize=(10, 6))\n",
    "\n",
    "# Plot median prices for 2023 and 2013\n",
    "ax.plot(hpp_df_2023.groupby('Month')['Price_Paid'].median(), \n",
    "        label='Median Price 2023', linestyle='dashed', marker='o', markersize=5)\n",
    "\n",
    "ax.plot(hpp_df_2013.groupby('Month')['Price_Paid'].median(), \n",
    "        label='Median Price 2013', linestyle='dashed', marker='o', markersize=5)\n",
    "\n",
    "# Plot minimum prices for 2023 and 2013\n",
    "ax.plot(hpp_df_2023.groupby('Month')['Price_Paid'].min(), \n",
    "        label='Minimum Price 2023', marker='o', markersize=5)\n",
    "\n",
    "ax.plot(hpp_df_2013.groupby('Month')['Price_Paid'].min(), \n",
    "        label='Minimum Price 2013', marker='o', markersize=5)\n",
    "\n",
    "# Set labels and title\n",
    "ax.set(xlabel='Month', ylabel='Prices', \n",
    "       title=\"Median and Minimum Housing Prices in the UK for 2013 and 2023\")\n",
    "\n",
    "# Add a legend\n",
    "ax.legend()\n",
    "\n",
    "plt.xticks(range(1, 13), ['Jan', 'Feb', 'Mar', 'Apr', 'May', 'Jun', 'Jul', 'Aug', 'Sep', 'Oct', 'Nov', 'Dec'])\n",
    "\n",
    "# Display grid lines\n",
    "plt.grid(True, alpha=0.5)\n",
    "\n",
    "# Show the plot\n",
    "plt.show()"
   ]
  },
  {
   "cell_type": "code",
   "execution_count": null,
   "id": "3d218780",
   "metadata": {},
   "outputs": [],
   "source": [
    "# Time series analysis for price paid\n",
    "time_series = hpp_df.groupby('Transaction_date')['Price_Paid'].mean()\n",
    "plt.figure(figsize=(12, 6))\n",
    "time_series.plot()\n",
    "plt.title('Time Series Analysis of Price Paid')\n",
    "plt.xlabel('Transaction Date')\n",
    "plt.ylabel('Price Paid (£)')\n",
    "plt.tight_layout()\n",
    "plt.show()"
   ]
  },
  {
   "cell_type": "code",
   "execution_count": null,
   "id": "c6b7b7c0",
   "metadata": {},
   "outputs": [],
   "source": [
    "# Box plot for outlier detection\n",
    "sns.boxplot(data=hpp_df, x='Price_Paid')\n",
    "plt.title('Price Paid Outlier Analysis')\n",
    "plt.xlabel('Price Paid')\n",
    "plt.tight_layout()\n",
    "plt.show()\n",
    "\n",
    "# Box plot for outlier detection\n",
    "sns.boxplot(data=hpp_df, x='Habitable_Rooms')\n",
    "plt.title('Habitable Rooms Outlier Analysis')\n",
    "plt.xlabel('Number of Rooms')\n",
    "plt.tight_layout()\n",
    "plt.show()\n",
    "\n",
    "# Box plot for outlier detection\n",
    "sns.boxplot(data=hpp_df, x='Floor_Area')\n",
    "plt.title('Floor Area Outlier Analysis')\n",
    "plt.xlabel('Total Floor Area')\n",
    "plt.tight_layout()\n",
    "plt.show()"
   ]
  },
  {
   "cell_type": "code",
   "execution_count": null,
   "id": "283a7a72",
   "metadata": {
    "scrolled": true
   },
   "outputs": [],
   "source": [
    "# Distribution of data before log-transformation\n",
    "plt.figure(figsize=(10, 6))\n",
    "sns.histplot(data=hpp_df, x='Price_Paid', bins=30, kde=True)\n",
    "plt.title('Histogram and Density Plot of Log(Price Paid)')\n",
    "plt.xlabel('Price Paid)')\n",
    "plt.ylabel('Frequency')\n",
    "plt.tight_layout()\n",
    "plt.show()"
   ]
  },
  {
   "cell_type": "code",
   "execution_count": null,
   "id": "000e9820",
   "metadata": {},
   "outputs": [],
   "source": [
    "hp_df = hpp_df.copy()"
   ]
  },
  {
   "cell_type": "code",
   "execution_count": null,
   "id": "76351545",
   "metadata": {},
   "outputs": [],
   "source": [
    "hp_df.count()"
   ]
  },
  {
   "cell_type": "code",
   "execution_count": null,
   "id": "2ec8a2ea",
   "metadata": {
    "scrolled": true
   },
   "outputs": [],
   "source": [
    "Property_types = (\"T\", \"S\", \"D\", \"F\", \"M\", \"B\")\n",
    "prop_df = pd.DataFrame(hpp_df, columns = ['Property_Type'])\n",
    "dummy_df = pd.get_dummies(hpp_df, columns = ['Property_Type'])\n",
    "hpp_df = prop_df.join(dummy_df)\n",
    "hpp_df.drop(columns = 'Property_Type', axis = 1, inplace = True)\n",
    "hpp_df"
   ]
  },
  {
   "cell_type": "code",
   "execution_count": null,
   "id": "131f99ab",
   "metadata": {
    "scrolled": true
   },
   "outputs": [],
   "source": [
    "# Create a label encoder instance\n",
    "label_encoder = LabelEncoder()\n",
    "\n",
    "# Apply label encoding to 'Old/New'\n",
    "hpp_df['Old/New'] = label_encoder.fit_transform(hpp_df['Old/New'])\n",
    "\n",
    "print(\"Encoded values for 'Old/New':\", label_encoder.classes_)\n",
    "\n",
    "# Display the first few rows of the DataFrame\n",
    "hpp_df.head()"
   ]
  },
  {
   "cell_type": "code",
   "execution_count": null,
   "id": "af67a9c1",
   "metadata": {},
   "outputs": [],
   "source": [
    "# Apply label encoding to 'Freehold/Leasehold'\n",
    "hpp_df['Freehold/Leasehold'] = label_encoder.fit_transform(hpp_df['Freehold/Leasehold'])\n",
    "# Display the first few rows of the DataFrame\n",
    "print(\"Encoded values for 'Freehold/Leasehold':\", label_encoder.classes_)\n",
    "hpp_df.head()"
   ]
  },
  {
   "cell_type": "code",
   "execution_count": null,
   "id": "24a6bec5",
   "metadata": {},
   "outputs": [],
   "source": [
    "Energy_Rating = ('A', 'B', 'C', 'D', 'E', 'F', 'G')\n",
    "Erating_df = pd.DataFrame(hpp_df, columns = ['Energy_Rating'])\n",
    "dummyer_df = pd.get_dummies(hpp_df, columns = ['Energy_Rating'])\n",
    "hpp_df = Erating_df.join(dummyer_df)\n",
    "hpp_df.drop(columns = 'Energy_Rating', axis = 1, inplace = True)\n",
    "hpp_df"
   ]
  },
  {
   "cell_type": "code",
   "execution_count": null,
   "id": "d127c526",
   "metadata": {},
   "outputs": [],
   "source": [
    "print(hpp_df['Energy_Rating_A'].unique())\n",
    "print(hpp_df['Energy_Rating_B'].unique())\n",
    "print(hpp_df['Energy_Rating_C'].unique())\n",
    "print(hpp_df['Energy_Rating_D'].unique())\n",
    "print(hpp_df['Energy_Rating_E'].unique())\n",
    "print(hpp_df['Energy_Rating_F'].unique())\n",
    "print(hpp_df['Energy_Rating_G'].unique())"
   ]
  },
  {
   "cell_type": "code",
   "execution_count": null,
   "id": "e1db9f24",
   "metadata": {
    "scrolled": true
   },
   "outputs": [],
   "source": [
    "hpp_df.info()"
   ]
  },
  {
   "cell_type": "code",
   "execution_count": null,
   "id": "161a7e37",
   "metadata": {},
   "outputs": [],
   "source": [
    "hpp_df[\"Price_Paid\"].skew()"
   ]
  },
  {
   "cell_type": "code",
   "execution_count": null,
   "id": "7d8bd9fd",
   "metadata": {},
   "outputs": [],
   "source": [
    "# Applying log-transformation due to outliers (the data is positively skewed)\n",
    "hpp_df['Log_Price'] = np.log(hpp_df[\"Price_Paid\"])\n",
    "plt.figure(figsize=(10, 6))\n",
    "sns.histplot(data=hpp_df, x='Log_Price', bins=30, kde=True)\n",
    "plt.title('Histogram and Density Plot of Log(Price Paid)')\n",
    "plt.xlabel('Log(Price Paid)')\n",
    "plt.ylabel('Frequency')\n",
    "plt.tight_layout()\n",
    "plt.show()"
   ]
  },
  {
   "cell_type": "code",
   "execution_count": null,
   "id": "243150e6",
   "metadata": {},
   "outputs": [],
   "source": [
    "hpp_df[\"Log_Price\"].skew()"
   ]
  },
  {
   "cell_type": "code",
   "execution_count": null,
   "id": "abb2b93a",
   "metadata": {},
   "outputs": [],
   "source": [
    "#Removing the extreme outliers and saving the result to new dataframe\n",
    "Q1 = hpp_df['Log_Price'].quantile(0.25)\n",
    "Q3 = hpp_df['Log_Price'].quantile(0.75)\n",
    "IQR = Q3 - Q1\n",
    "\n",
    "lower_bound = Q1 - 1.5 * IQR\n",
    "upper_bound = Q3 + 1.5 * IQR\n",
    "\n",
    "# Filter out outliers\n",
    "hp_df = hpp_df[(hpp_df['Log_Price'] >= lower_bound) & (hpp_df['Log_Price'] <= upper_bound)]"
   ]
  },
  {
   "cell_type": "code",
   "execution_count": null,
   "id": "43ca7fcd",
   "metadata": {},
   "outputs": [],
   "source": [
    "# Box plot for Log_Price\n",
    "sns.boxplot(data=hp_df, x='Log_Price')\n",
    "plt.title('Price distribution after removing outliers')\n",
    "plt.xlabel('Price Paid')\n",
    "plt.tight_layout()\n",
    "plt.show()"
   ]
  },
  {
   "cell_type": "code",
   "execution_count": null,
   "id": "443f158e",
   "metadata": {
    "scrolled": true
   },
   "outputs": [],
   "source": [
    "hp_df.info()"
   ]
  },
  {
   "cell_type": "code",
   "execution_count": null,
   "id": "d5a7db87",
   "metadata": {},
   "outputs": [],
   "source": [
    "hp_df['Log_Price'].min()"
   ]
  },
  {
   "cell_type": "code",
   "execution_count": null,
   "id": "20cb1755",
   "metadata": {},
   "outputs": [],
   "source": [
    "#adding original price to the log price to check the minimum and maximum price range\n",
    "hp_df['Original_Price'] = np.exp(hp_df['Log_Price'])\n",
    "\n",
    "min_price = hp_df['Original_Price'].min()\n",
    "max_price = hp_df['Original_Price'].max()\n",
    "\n",
    "\n",
    "# Round off the minimum and maximum prices to two decimal places\n",
    "min_price = round(min_price, 2)\n",
    "max_price = round(max_price, 2)\n",
    "\n",
    "\n",
    "print(\"Min Price:\", min_price)\n",
    "print(\"Max Price:\", max_price)"
   ]
  },
  {
   "cell_type": "code",
   "execution_count": null,
   "id": "ef2e0274",
   "metadata": {
    "scrolled": false
   },
   "outputs": [],
   "source": [
    "# List of variables you for correlation\n",
    "selected_vars = ['Log_Price', 'Floor_Area', 'Habitable_Rooms', 'Old/New','Freehold/Leasehold', 'Property_Type_D','Property_Type_T','Property_Type_S', 'Property_Type_F', 'Energy_Rating_A','Energy_Rating_B','Energy_Rating_C','Energy_Rating_D','Energy_Rating_E','Energy_Rating_F','Energy_Rating_G','Year','Month']\n",
    "\n",
    "# Subset the dataframe with the selected variables\n",
    "selected_df = hp_df[selected_vars]\n",
    "\n",
    "# Create a correlation matrix\n",
    "corr_matrix = selected_df.corr()\n",
    "\n",
    "# Plot the heatmap\n",
    "plt.figure(figsize=(10, 10))\n",
    "sns.heatmap(corr_matrix, cmap='coolwarm', annot=True, fmt=\".2f\", linewidths=.5)\n",
    "plt.title(\"Correlation Matrix Heatmap\")\n",
    "plt.show()"
   ]
  },
  {
   "cell_type": "code",
   "execution_count": null,
   "id": "6176523d",
   "metadata": {},
   "outputs": [],
   "source": [
    "hp_df.info()"
   ]
  },
  {
   "cell_type": "code",
   "execution_count": null,
   "id": "de871ce5",
   "metadata": {},
   "outputs": [],
   "source": [
    "#preparing data for Prediction model\n",
    "\n",
    "# Create a new DataFrame and copying the data\n",
    "linear_df = hp_df.copy()\n",
    "\n",
    "linear_df.head()"
   ]
  },
  {
   "cell_type": "code",
   "execution_count": null,
   "id": "0fa0e1b6",
   "metadata": {},
   "outputs": [],
   "source": [
    "# Drop unnecessary columns\n",
    "columns_to_drop = ['Address', 'Transaction_date', 'Price_Paid', 'Original_Price', 'Years_Since', 'Building_num']\n",
    "linear_df.drop(columns=columns_to_drop, axis=1, inplace=True)"
   ]
  },
  {
   "cell_type": "code",
   "execution_count": null,
   "id": "c3670243",
   "metadata": {},
   "outputs": [],
   "source": [
    "linear_df.info()"
   ]
  },
  {
   "cell_type": "code",
   "execution_count": null,
   "id": "ad839f06",
   "metadata": {},
   "outputs": [],
   "source": [
    "# Factorize the remaining address-related columns\n",
    "address_columns = ['Town/City', 'District', 'County', 'Postcode']\n",
    "for col in address_columns:\n",
    "    linear_df[col] = linear_df[col].factorize()[0].astype('float32')"
   ]
  },
  {
   "cell_type": "code",
   "execution_count": null,
   "id": "4c9e01d3",
   "metadata": {},
   "outputs": [],
   "source": [
    "linear_df.info()"
   ]
  },
  {
   "cell_type": "code",
   "execution_count": null,
   "id": "38ac8f42",
   "metadata": {},
   "outputs": [],
   "source": [
    "linear_df.head()"
   ]
  },
  {
   "cell_type": "code",
   "execution_count": null,
   "id": "5feb5169",
   "metadata": {
    "scrolled": true
   },
   "outputs": [],
   "source": [
    "# Split the data into features (X) and target (y)\n",
    "X = linear_df.drop(columns=['Log_Price'])\n",
    "y = linear_df['Log_Price']"
   ]
  },
  {
   "cell_type": "code",
   "execution_count": null,
   "id": "85d3ada7",
   "metadata": {},
   "outputs": [],
   "source": [
    "# Split the data into training and testing sets\n",
    "X_train, X_test, y_train, y_test = train_test_split(X, y, test_size=0.2, random_state=42)"
   ]
  },
  {
   "cell_type": "code",
   "execution_count": null,
   "id": "75eb4185",
   "metadata": {},
   "outputs": [],
   "source": [
    "print(\"X_train shape:\", X_train.shape)\n",
    "print(\"y_train shape:\", y_train.shape)"
   ]
  },
  {
   "cell_type": "code",
   "execution_count": null,
   "id": "83b3f4a3",
   "metadata": {},
   "outputs": [],
   "source": [
    "# Standardize the features\n",
    "scaler = StandardScaler()\n",
    "X_train_scaled = scaler.fit_transform(X_train)\n",
    "X_test_scaled = scaler.transform(X_test)"
   ]
  },
  {
   "cell_type": "code",
   "execution_count": null,
   "id": "baa328e0",
   "metadata": {},
   "outputs": [],
   "source": [
    "# Initialize the Linear Regression model\n",
    "lr_model = LinearRegression()"
   ]
  },
  {
   "cell_type": "code",
   "execution_count": null,
   "id": "8435c298",
   "metadata": {},
   "outputs": [],
   "source": [
    "# Train the model on the training data\n",
    "lr_model.fit(X_train_scaled, y_train)"
   ]
  },
  {
   "cell_type": "code",
   "execution_count": null,
   "id": "5bc44277",
   "metadata": {},
   "outputs": [],
   "source": [
    "# Make predictions on the test data\n",
    "y_pred_lr = lr_model.predict(X_test_scaled)"
   ]
  },
  {
   "cell_type": "code",
   "execution_count": null,
   "id": "8ed396c3",
   "metadata": {},
   "outputs": [],
   "source": [
    "# Evaluate the Linear Regression model\n",
    "mse_lr = mean_squared_error(y_test, y_pred_lr)\n",
    "r2_lr = r2_score(y_test, y_pred_lr)\n",
    "rmse_lr = np.sqrt(mse_lr)"
   ]
  },
  {
   "cell_type": "code",
   "execution_count": null,
   "id": "6b675ea2",
   "metadata": {},
   "outputs": [],
   "source": [
    "print(\"Linear Regression Model:\")\n",
    "print(\"Mean Squared Error:\", mse_lr)\n",
    "print(\"R-squared:\", r2_lr)\n",
    "print(\"Linear Regression RMSE:\", rmse_lr)"
   ]
  },
  {
   "cell_type": "code",
   "execution_count": null,
   "id": "6c68e09a",
   "metadata": {},
   "outputs": [],
   "source": [
    "# Initialize the SVR model with hyperparameters\n",
    "svr_model = SVR(kernel='linear', C=1.0) "
   ]
  },
  {
   "cell_type": "code",
   "execution_count": null,
   "id": "7400cfda",
   "metadata": {},
   "outputs": [],
   "source": [
    "# Train the SVR model on the scaled training data\n",
    "svr_model.fit(X_train_scaled, y_train)"
   ]
  },
  {
   "cell_type": "code",
   "execution_count": null,
   "id": "c564bb4c",
   "metadata": {},
   "outputs": [],
   "source": [
    "# Make predictions on the scaled test data\n",
    "y_pred_svr = svr_model.predict(X_test_scaled)"
   ]
  },
  {
   "cell_type": "code",
   "execution_count": null,
   "id": "e6937eae",
   "metadata": {},
   "outputs": [],
   "source": [
    "# Evaluate the SVR model\n",
    "mse_svr = mean_squared_error(y_test, y_pred_svr)\n",
    "r2_svr = r2_score(y_test, y_pred_svr)\n",
    "rmse_svr = np.sqrt(mse_svr)\n",
    "\n",
    "print(\"Support Vector Machine Regression Model:\")\n",
    "print(\"Mean Squared Error:\", mse_svr)\n",
    "print(\"R-squared:\", r2_svr)\n",
    "print(\"SVR RMSE:\", rmse_svr)"
   ]
  },
  {
   "cell_type": "code",
   "execution_count": null,
   "id": "abcc071c",
   "metadata": {},
   "outputs": [],
   "source": [
    "# Initialize the Random Forest Regressor model with desired hyperparameters\n",
    "rf_model = RandomForestRegressor(n_estimators=100, max_depth=None, random_state=42)"
   ]
  },
  {
   "cell_type": "code",
   "execution_count": null,
   "id": "5127ec8d",
   "metadata": {},
   "outputs": [],
   "source": [
    "# Train the Random Forest model on the training data\n",
    "rf_model.fit(X_train, y_train)"
   ]
  },
  {
   "cell_type": "code",
   "execution_count": null,
   "id": "bf7a9604",
   "metadata": {},
   "outputs": [],
   "source": [
    "# Make predictions on the test data\n",
    "y_pred_rf = rf_model.predict(X_test)"
   ]
  },
  {
   "cell_type": "code",
   "execution_count": null,
   "id": "5311eeee",
   "metadata": {},
   "outputs": [],
   "source": [
    "# Evaluate the Random Forest model\n",
    "mse_rf = mean_squared_error(y_test, y_pred_rf)\n",
    "r2_rf = r2_score(y_test, y_pred_rf)\n",
    "rmse_rf = np.sqrt(mse_rf)\n",
    "\n",
    "print(\"Random Forest Regression Model:\")\n",
    "print(\"Mean Squared Error:\", mse_rf)\n",
    "print(\"R-squared:\", r2_rf)\n",
    "print(\"Random Forest RMSE:\", rmse_rf)"
   ]
  },
  {
   "cell_type": "code",
   "execution_count": null,
   "id": "94cf6802",
   "metadata": {},
   "outputs": [],
   "source": [
    "# Initialize the Gradient Boosting Regression model\n",
    "gb_model = GradientBoostingRegressor()"
   ]
  },
  {
   "cell_type": "code",
   "execution_count": null,
   "id": "00ec1330",
   "metadata": {},
   "outputs": [],
   "source": [
    "# Train the model on the training data\n",
    "gb_model.fit(X_train, y_train)"
   ]
  },
  {
   "cell_type": "code",
   "execution_count": null,
   "id": "dadce79c",
   "metadata": {},
   "outputs": [],
   "source": [
    "# Make predictions on the test data\n",
    "y_pred_gb = gb_model.predict(X_test)"
   ]
  },
  {
   "cell_type": "code",
   "execution_count": null,
   "id": "d3b7a4eb",
   "metadata": {},
   "outputs": [],
   "source": [
    "# Evaluate the Gradient Boosting model\n",
    "mse_gb = mean_squared_error(y_test, y_pred_gb)\n",
    "r2_gb = r2_score(y_test, y_pred_gb)\n",
    "rmse_gb = np.sqrt(mse_gb)\n",
    "\n",
    "print(\"Gradient Boosting Regression Model:\")\n",
    "print(\"Mean Squared Error:\", mse_gb)\n",
    "print(\"R-squared:\", r2_gb)\n",
    "print(\"Gradient Boosting RMSE:\", rmse_gb)"
   ]
  },
  {
   "cell_type": "code",
   "execution_count": null,
   "id": "16ded85c",
   "metadata": {},
   "outputs": [],
   "source": [
    "# Initialize the XGBoost Regression model\n",
    "xgb_model = xgb.XGBRegressor()"
   ]
  },
  {
   "cell_type": "code",
   "execution_count": null,
   "id": "6bdf974c",
   "metadata": {},
   "outputs": [],
   "source": [
    "# Train the model on the training data\n",
    "xgb_model.fit(X_train, y_train)"
   ]
  },
  {
   "cell_type": "code",
   "execution_count": null,
   "id": "6ecab672",
   "metadata": {},
   "outputs": [],
   "source": [
    "# Make predictions on the test data\n",
    "y_pred_xgb = xgb_model.predict(X_test)"
   ]
  },
  {
   "cell_type": "code",
   "execution_count": null,
   "id": "2e543044",
   "metadata": {},
   "outputs": [],
   "source": [
    "# Evaluate the XGBoost model\n",
    "mse_xgb = mean_squared_error(y_test, y_pred_xgb)\n",
    "r2_xgb = r2_score(y_test, y_pred_xgb)\n",
    "rmse_xgb = np.sqrt(mse_xgb)\n",
    "\n",
    "print(\"XGBoost Regression Model:\")\n",
    "print(\"Mean Squared Error:\", mse_xgb)\n",
    "print(\"R-squared:\", r2_xgb)\n",
    "print(\"XGBoost RMSE:\", rmse_xgb)"
   ]
  },
  {
   "cell_type": "code",
   "execution_count": null,
   "id": "02618f4c",
   "metadata": {},
   "outputs": [],
   "source": []
  }
 ],
 "metadata": {
  "kernelspec": {
   "display_name": "Python 3",
   "language": "python",
   "name": "python3"
  },
  "language_info": {
   "codemirror_mode": {
    "name": "ipython",
    "version": 3
   },
   "file_extension": ".py",
   "mimetype": "text/x-python",
   "name": "python",
   "nbconvert_exporter": "python",
   "pygments_lexer": "ipython3",
   "version": "3.8.8"
  }
 },
 "nbformat": 4,
 "nbformat_minor": 5
}
