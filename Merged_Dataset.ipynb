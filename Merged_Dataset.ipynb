{
 "cells": [
  {
   "cell_type": "code",
   "execution_count": 1,
   "id": "56ddff7b",
   "metadata": {},
   "outputs": [],
   "source": [
    "import pandas as pd\n",
    "import numpy as np\n",
    "import re"
   ]
  },
  {
   "cell_type": "code",
   "execution_count": 2,
   "id": "1083a023",
   "metadata": {},
   "outputs": [],
   "source": [
    "price_paid_df = pd.read_csv(r'C:\\Users\\Rekha\\Desktop\\Dissertation Datasets\\PricePaid_Cleaned.csv')\n",
    "epc_df = pd.read_csv(r'C:\\Users\\Rekha\\Desktop\\Dissertation Datasets\\EPC_Cleaned.csv')"
   ]
  },
  {
   "cell_type": "code",
   "execution_count": 3,
   "id": "1977a1f7",
   "metadata": {},
   "outputs": [],
   "source": [
    "# Merge datasets based on common columns\n",
    "hpp_df = price_paid_df.merge(epc_df, on=['Address', 'Postcode'], how='inner')"
   ]
  },
  {
   "cell_type": "code",
   "execution_count": 4,
   "id": "1a5cf5bc",
   "metadata": {},
   "outputs": [],
   "source": [
    "# Convert 'Transaction date' column to datetime\n",
    "hpp_df['Transaction_date'] = pd.to_datetime(hpp_df['Transaction_date'])\n",
    "\n",
    "# Convert 'Lodgement date' column to datetime\n",
    "hpp_df['Lodgement_Date'] = pd.to_datetime(hpp_df['Lodgement_Date'])\n",
    "\n",
    "# Calculate the difference between transaction date and lodgement date\n",
    "hpp_df['Date_Difference'] = abs(hpp_df['Transaction_date'] - hpp_df['Lodgement_Date'])\n",
    "\n",
    "# Find the nearest lodgement date for each transaction\n",
    "nearest_lodgement = hpp_df.groupby(['Address', 'Postcode', 'Transaction_date'], as_index=False)['Date_Difference'].idxmin()\n",
    "\n",
    "# Extract the index values from nearest_lodgement\n",
    "index_values = nearest_lodgement['Date_Difference']\n",
    "\n",
    "# Filter the merged DataFrame to include only the rows with the nearest lodgement date\n",
    "hpp_df = hpp_df.loc[index_values]\n",
    "\n",
    "# Drop the 'Date_Difference' column\n",
    "hpp_df.drop(columns=['Date_Difference'], inplace=True)"
   ]
  },
  {
   "cell_type": "code",
   "execution_count": 5,
   "id": "15c0cf3b",
   "metadata": {},
   "outputs": [],
   "source": [
    "# Replace empty strings with NaN\n",
    "hpp_df.replace('', np.nan, inplace=True)"
   ]
  },
  {
   "cell_type": "code",
   "execution_count": 6,
   "id": "eeead611",
   "metadata": {},
   "outputs": [
    {
     "data": {
      "text/html": [
       "<div>\n",
       "<style scoped>\n",
       "    .dataframe tbody tr th:only-of-type {\n",
       "        vertical-align: middle;\n",
       "    }\n",
       "\n",
       "    .dataframe tbody tr th {\n",
       "        vertical-align: top;\n",
       "    }\n",
       "\n",
       "    .dataframe thead th {\n",
       "        text-align: right;\n",
       "    }\n",
       "</style>\n",
       "<table border=\"1\" class=\"dataframe\">\n",
       "  <thead>\n",
       "    <tr style=\"text-align: right;\">\n",
       "      <th></th>\n",
       "      <th>Transaction_date</th>\n",
       "      <th>Price_Paid</th>\n",
       "      <th>Address</th>\n",
       "      <th>Town/City_x</th>\n",
       "      <th>Postcode</th>\n",
       "      <th>Property_Type_x</th>\n",
       "      <th>Old/New</th>\n",
       "      <th>Freehold/Leasehold</th>\n",
       "      <th>District</th>\n",
       "      <th>County</th>\n",
       "      <th>Building_num</th>\n",
       "      <th>Lodgement_Date</th>\n",
       "      <th>Town/City_y</th>\n",
       "      <th>Property_Type_y</th>\n",
       "      <th>Floor_Area</th>\n",
       "      <th>Habitable_Rooms</th>\n",
       "      <th>Energy_Rating</th>\n",
       "    </tr>\n",
       "  </thead>\n",
       "  <tbody>\n",
       "    <tr>\n",
       "      <th>590244</th>\n",
       "      <td>2020-08-25</td>\n",
       "      <td>780000</td>\n",
       "      <td>1 &amp; 4 Haw Cote</td>\n",
       "      <td>Huddersfield</td>\n",
       "      <td>HD7 5XD</td>\n",
       "      <td>D</td>\n",
       "      <td>N</td>\n",
       "      <td>F</td>\n",
       "      <td>Kirklees</td>\n",
       "      <td>West Yorkshire</td>\n",
       "      <td>3367232578</td>\n",
       "      <td>2019-09-08</td>\n",
       "      <td>Huddersfield</td>\n",
       "      <td>House</td>\n",
       "      <td>196.0</td>\n",
       "      <td>7.0</td>\n",
       "      <td>D</td>\n",
       "    </tr>\n",
       "    <tr>\n",
       "      <th>714495</th>\n",
       "      <td>2022-10-27</td>\n",
       "      <td>125000</td>\n",
       "      <td>1 16Th Avenue</td>\n",
       "      <td>Hull</td>\n",
       "      <td>HU6 9JJ</td>\n",
       "      <td>S</td>\n",
       "      <td>N</td>\n",
       "      <td>F</td>\n",
       "      <td>City Of Kingston Upon Hull</td>\n",
       "      <td>City Of Kingston Upon Hull</td>\n",
       "      <td>8446903178</td>\n",
       "      <td>2013-09-05</td>\n",
       "      <td>Hull</td>\n",
       "      <td>House</td>\n",
       "      <td>73.0</td>\n",
       "      <td>5.0</td>\n",
       "      <td>D</td>\n",
       "    </tr>\n",
       "    <tr>\n",
       "      <th>736477</th>\n",
       "      <td>2022-12-06</td>\n",
       "      <td>115000</td>\n",
       "      <td>1 1St Avenue</td>\n",
       "      <td>Hull</td>\n",
       "      <td>HU6 9NE</td>\n",
       "      <td>S</td>\n",
       "      <td>N</td>\n",
       "      <td>F</td>\n",
       "      <td>City Of Kingston Upon Hull</td>\n",
       "      <td>City Of Kingston Upon Hull</td>\n",
       "      <td>10002965934</td>\n",
       "      <td>2022-09-19</td>\n",
       "      <td>Hull</td>\n",
       "      <td>House</td>\n",
       "      <td>75.0</td>\n",
       "      <td>5.0</td>\n",
       "      <td>D</td>\n",
       "    </tr>\n",
       "    <tr>\n",
       "      <th>570231</th>\n",
       "      <td>2020-12-18</td>\n",
       "      <td>70000</td>\n",
       "      <td>1 23Rd Avenue</td>\n",
       "      <td>Hull</td>\n",
       "      <td>HU6 8HP</td>\n",
       "      <td>S</td>\n",
       "      <td>N</td>\n",
       "      <td>F</td>\n",
       "      <td>City Of Kingston Upon Hull</td>\n",
       "      <td>City Of Kingston Upon Hull</td>\n",
       "      <td>9668157678</td>\n",
       "      <td>2019-11-02</td>\n",
       "      <td>Hull</td>\n",
       "      <td>House</td>\n",
       "      <td>57.0</td>\n",
       "      <td>4.0</td>\n",
       "      <td>D</td>\n",
       "    </tr>\n",
       "    <tr>\n",
       "      <th>726455</th>\n",
       "      <td>2022-04-19</td>\n",
       "      <td>100000</td>\n",
       "      <td>1 26Th Avenue</td>\n",
       "      <td>Hull</td>\n",
       "      <td>HU6 9SH</td>\n",
       "      <td>S</td>\n",
       "      <td>N</td>\n",
       "      <td>F</td>\n",
       "      <td>City Of Kingston Upon Hull</td>\n",
       "      <td>City Of Kingston Upon Hull</td>\n",
       "      <td>10001727195</td>\n",
       "      <td>2021-11-09</td>\n",
       "      <td>Hull</td>\n",
       "      <td>House</td>\n",
       "      <td>74.0</td>\n",
       "      <td>4.0</td>\n",
       "      <td>D</td>\n",
       "    </tr>\n",
       "  </tbody>\n",
       "</table>\n",
       "</div>"
      ],
      "text/plain": [
       "       Transaction_date  Price_Paid         Address   Town/City_x Postcode  \\\n",
       "590244       2020-08-25      780000  1 & 4 Haw Cote  Huddersfield  HD7 5XD   \n",
       "714495       2022-10-27      125000   1 16Th Avenue          Hull  HU6 9JJ   \n",
       "736477       2022-12-06      115000    1 1St Avenue          Hull  HU6 9NE   \n",
       "570231       2020-12-18       70000   1 23Rd Avenue          Hull  HU6 8HP   \n",
       "726455       2022-04-19      100000   1 26Th Avenue          Hull  HU6 9SH   \n",
       "\n",
       "       Property_Type_x Old/New Freehold/Leasehold                    District  \\\n",
       "590244               D       N                  F                    Kirklees   \n",
       "714495               S       N                  F  City Of Kingston Upon Hull   \n",
       "736477               S       N                  F  City Of Kingston Upon Hull   \n",
       "570231               S       N                  F  City Of Kingston Upon Hull   \n",
       "726455               S       N                  F  City Of Kingston Upon Hull   \n",
       "\n",
       "                            County  Building_num Lodgement_Date   Town/City_y  \\\n",
       "590244              West Yorkshire    3367232578     2019-09-08  Huddersfield   \n",
       "714495  City Of Kingston Upon Hull    8446903178     2013-09-05          Hull   \n",
       "736477  City Of Kingston Upon Hull   10002965934     2022-09-19          Hull   \n",
       "570231  City Of Kingston Upon Hull    9668157678     2019-11-02          Hull   \n",
       "726455  City Of Kingston Upon Hull   10001727195     2021-11-09          Hull   \n",
       "\n",
       "       Property_Type_y  Floor_Area  Habitable_Rooms Energy_Rating  \n",
       "590244           House       196.0              7.0             D  \n",
       "714495           House        73.0              5.0             D  \n",
       "736477           House        75.0              5.0             D  \n",
       "570231           House        57.0              4.0             D  \n",
       "726455           House        74.0              4.0             D  "
      ]
     },
     "execution_count": 6,
     "metadata": {},
     "output_type": "execute_result"
    }
   ],
   "source": [
    "hpp_df.head()"
   ]
  },
  {
   "cell_type": "code",
   "execution_count": 7,
   "id": "0d73e5b6",
   "metadata": {},
   "outputs": [],
   "source": [
    "hpp_df.loc[hpp_df['Property_Type_x'] == 'O', 'Property_Type_x'] = hpp_df.loc[hpp_df['Property_Type_x'] == 'O', 'Property_Type_y']"
   ]
  },
  {
   "cell_type": "code",
   "execution_count": 8,
   "id": "454dbac1",
   "metadata": {},
   "outputs": [
    {
     "data": {
      "text/plain": [
       "array(['D', 'S', 'T', 'House', 'Flat', 'F', 'Bungalow', 'Maisonette'],\n",
       "      dtype=object)"
      ]
     },
     "execution_count": 8,
     "metadata": {},
     "output_type": "execute_result"
    }
   ],
   "source": [
    "hpp_df['Property_Type_x'].unique()"
   ]
  },
  {
   "cell_type": "code",
   "execution_count": 9,
   "id": "9ccd3e1d",
   "metadata": {},
   "outputs": [
    {
     "data": {
      "text/plain": [
       "array(['House', 'Flat', 'Bungalow', 'Maisonette'], dtype=object)"
      ]
     },
     "execution_count": 9,
     "metadata": {},
     "output_type": "execute_result"
    }
   ],
   "source": [
    "hpp_df['Property_Type_y'].unique()"
   ]
  },
  {
   "cell_type": "code",
   "execution_count": 10,
   "id": "c6ba5e84",
   "metadata": {},
   "outputs": [
    {
     "data": {
      "text/plain": [
       "(615246, 17)"
      ]
     },
     "execution_count": 10,
     "metadata": {},
     "output_type": "execute_result"
    }
   ],
   "source": [
    "hpp_df.shape"
   ]
  },
  {
   "cell_type": "code",
   "execution_count": 11,
   "id": "b1b8b680",
   "metadata": {},
   "outputs": [],
   "source": [
    "columns_drop = ['Town/City_y','Property_Type_y','Lodgement_Date']\n",
    "hpp_df = hpp_df.drop(columns=columns_drop)"
   ]
  },
  {
   "cell_type": "code",
   "execution_count": 12,
   "id": "2654410d",
   "metadata": {},
   "outputs": [],
   "source": [
    "# Rename values in Property_Type_x\n",
    "hpp_df['Property_Type_x'] = hpp_df['Property_Type_x'].replace({'Flat': 'F', 'Bungalow': 'B', 'Maisonette': 'M'})\n",
    "\n",
    "# Drop rows with 'House' in Property_type_x since we can't conclude the type of the property with the value House\n",
    "hpp_df = hpp_df[hpp_df['Property_Type_x'] != 'House']"
   ]
  },
  {
   "cell_type": "code",
   "execution_count": 13,
   "id": "2d3ca928",
   "metadata": {},
   "outputs": [
    {
     "data": {
      "text/plain": [
       "array(['D', 'S', 'T', 'F', 'B', 'M'], dtype=object)"
      ]
     },
     "execution_count": 13,
     "metadata": {},
     "output_type": "execute_result"
    }
   ],
   "source": [
    "hpp_df['Property_Type_x'].unique()"
   ]
  },
  {
   "cell_type": "code",
   "execution_count": 14,
   "id": "7810a2e6",
   "metadata": {},
   "outputs": [
    {
     "data": {
      "text/plain": [
       "(609329, 14)"
      ]
     },
     "execution_count": 14,
     "metadata": {},
     "output_type": "execute_result"
    }
   ],
   "source": [
    "hpp_df.shape"
   ]
  },
  {
   "cell_type": "code",
   "execution_count": 15,
   "id": "6bec2613",
   "metadata": {},
   "outputs": [],
   "source": [
    "hpp_df = hpp_df.drop_duplicates()"
   ]
  },
  {
   "cell_type": "code",
   "execution_count": 16,
   "id": "e5c69efb",
   "metadata": {},
   "outputs": [
    {
     "name": "stdout",
     "output_type": "stream",
     "text": [
      "<class 'pandas.core.frame.DataFrame'>\n",
      "Int64Index: 609329 entries, 590244 to 430553\n",
      "Data columns (total 14 columns):\n",
      " #   Column              Non-Null Count   Dtype         \n",
      "---  ------              --------------   -----         \n",
      " 0   Transaction_date    609329 non-null  datetime64[ns]\n",
      " 1   Price_Paid          609329 non-null  int64         \n",
      " 2   Address             609329 non-null  object        \n",
      " 3   Town/City           609329 non-null  object        \n",
      " 4   Postcode            609329 non-null  object        \n",
      " 5   Property_Type       609329 non-null  object        \n",
      " 6   Old/New             609329 non-null  object        \n",
      " 7   Freehold/Leasehold  609329 non-null  object        \n",
      " 8   District            609329 non-null  object        \n",
      " 9   County              609329 non-null  object        \n",
      " 10  Building_num        609329 non-null  int64         \n",
      " 11  Floor_Area          609329 non-null  float64       \n",
      " 12  Habitable_Rooms     527130 non-null  float64       \n",
      " 13  Energy_Rating       609329 non-null  object        \n",
      "dtypes: datetime64[ns](1), float64(2), int64(2), object(9)\n",
      "memory usage: 69.7+ MB\n"
     ]
    }
   ],
   "source": [
    "# Rename columns in epc_df\n",
    "hpp_df.rename(columns={'Town/City_x': 'Town/City','Property_Type_x':'Property_Type'}, inplace=True)\n",
    "\n",
    "# Print the updated DataFrame\n",
    "hpp_df.info()"
   ]
  },
  {
   "cell_type": "code",
   "execution_count": 17,
   "id": "5e151d7f",
   "metadata": {},
   "outputs": [],
   "source": [
    "columns_to_strip = ['Address', 'Town/City', 'Postcode', 'Property_Type', 'Old/New', 'Freehold/Leasehold', 'District', 'County']\n",
    "\n",
    "for column in columns_to_strip:\n",
    "    hpp_df[column] = hpp_df[column].str.strip()"
   ]
  },
  {
   "cell_type": "code",
   "execution_count": 18,
   "id": "177eeef6",
   "metadata": {},
   "outputs": [
    {
     "name": "stdout",
     "output_type": "stream",
     "text": [
      "<class 'pandas.core.frame.DataFrame'>\n",
      "Int64Index: 609329 entries, 590244 to 430553\n",
      "Data columns (total 14 columns):\n",
      " #   Column              Non-Null Count   Dtype         \n",
      "---  ------              --------------   -----         \n",
      " 0   Transaction_date    609329 non-null  datetime64[ns]\n",
      " 1   Price_Paid          609329 non-null  int64         \n",
      " 2   Address             609329 non-null  object        \n",
      " 3   Town/City           609329 non-null  object        \n",
      " 4   Postcode            609329 non-null  object        \n",
      " 5   Property_Type       609329 non-null  object        \n",
      " 6   Old/New             609329 non-null  object        \n",
      " 7   Freehold/Leasehold  609329 non-null  object        \n",
      " 8   District            609329 non-null  object        \n",
      " 9   County              609329 non-null  object        \n",
      " 10  Building_num        609329 non-null  int64         \n",
      " 11  Floor_Area          609329 non-null  float64       \n",
      " 12  Habitable_Rooms     527130 non-null  float64       \n",
      " 13  Energy_Rating       609329 non-null  object        \n",
      "dtypes: datetime64[ns](1), float64(2), int64(2), object(9)\n",
      "memory usage: 69.7+ MB\n"
     ]
    }
   ],
   "source": [
    "hpp_df.info()"
   ]
  },
  {
   "cell_type": "code",
   "execution_count": 19,
   "id": "9198a941",
   "metadata": {},
   "outputs": [],
   "source": [
    "csv_file_path = r'C:\\Users\\Rekha\\Desktop\\Dissertation Datasets\\House_Price.csv'\n",
    "\n",
    "# Save the cleaned DataFrame to a CSV file\n",
    "hpp_df.to_csv(csv_file_path, index=False)"
   ]
  }
 ],
 "metadata": {
  "kernelspec": {
   "display_name": "Python 3",
   "language": "python",
   "name": "python3"
  },
  "language_info": {
   "codemirror_mode": {
    "name": "ipython",
    "version": 3
   },
   "file_extension": ".py",
   "mimetype": "text/x-python",
   "name": "python",
   "nbconvert_exporter": "python",
   "pygments_lexer": "ipython3",
   "version": "3.8.8"
  }
 },
 "nbformat": 4,
 "nbformat_minor": 5
}
